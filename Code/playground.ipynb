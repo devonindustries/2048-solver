{
 "cells": [
  {
   "cell_type": "code",
   "execution_count": 11,
   "metadata": {},
   "outputs": [],
   "source": [
    "import time\n",
    "import os\n",
    "\n",
    "# Main imports\n",
    "import numpy as np\n",
    "import pandas as pd\n",
    "import seaborn as sns\n",
    "import matplotlib.pyplot as plt\n",
    "\n",
    "# Start using selenium\n",
    "from selenium import webdriver\n",
    "from selenium.webdriver.common.by import By\n",
    "from selenium.webdriver.common.keys import Keys\n",
    "\n",
    "# Other imports\n",
    "from GameLogic import *\n",
    "from TreeLogic import *\n",
    "from MCTSTreeLogic import *"
   ]
  },
  {
   "attachments": {},
   "cell_type": "markdown",
   "metadata": {},
   "source": [
    "Note that for this project, the source code for the game 2048 is used. The github repository by Gabriel Cirulli is available here: https://github.com/gabrielecirulli/2048\n",
    "\n",
    "All external code used may be found in the folder labelled \"2048\""
   ]
  },
  {
   "cell_type": "code",
   "execution_count": 12,
   "metadata": {},
   "outputs": [],
   "source": [
    "################################\n",
    "# USED FOR TESTING PURPOSES ONLY\n",
    "################################\n",
    "# s = blank()\n",
    "\n",
    "# Test 1\n",
    "# --------\n",
    "# k=2\n",
    "# for i in range(4):\n",
    "#     for j in range(4):\n",
    "#         s[i,j] = k\n",
    "#         k *= 2\n",
    "# s[0, 1] = 2\n",
    "# --------\n",
    "\n",
    "# Test 2\n",
    "# --------\n",
    "# s[1,1] = 2\n",
    "# s[2,2] = 4\n",
    "# --------\n",
    "\n",
    "# startNode = State(s)\n",
    "# Search(startNode, 100)"
   ]
  },
  {
   "cell_type": "code",
   "execution_count": 13,
   "metadata": {},
   "outputs": [],
   "source": [
    "# Uses the safari web driver built into mac. Setup instructions for windows can be found here:\n",
    "# https://selenium-python.readthedocs.io/installation.html\n",
    "driver = webdriver.Safari()"
   ]
  },
  {
   "cell_type": "code",
   "execution_count": 14,
   "metadata": {},
   "outputs": [],
   "source": [
    "path = os.path.abspath('../2048/index.html')\n",
    "driver.get(f'file://{path}')\n",
    "driver.maximize_window()"
   ]
  },
  {
   "cell_type": "code",
   "execution_count": 15,
   "metadata": {},
   "outputs": [],
   "source": [
    "# Define a map from directions to selenium keys\n",
    "dirKey = {\n",
    "    'l' : Keys.ARROW_LEFT,\n",
    "    'u' : Keys.ARROW_UP,\n",
    "    'r' : Keys.ARROW_RIGHT,\n",
    "    'd' : Keys.ARROW_DOWN\n",
    "}"
   ]
  },
  {
   "cell_type": "code",
   "execution_count": 16,
   "metadata": {},
   "outputs": [],
   "source": [
    "def gameToMatrix(d):\n",
    "    # A function which takes a driver and translates the current game state\n",
    "    # into a matrix which can be intepreted by Python. Takes a selenium driver d.\n",
    "    retMat = blank()\n",
    "    for tile in d.find_elements(By.CLASS_NAME, 'tile'):\n",
    "\n",
    "        # Get the tile info from the web driver\n",
    "        tileInfo = tile.get_attribute('class').split(' ')[2]\n",
    "        tileRef = tileInfo.split('position-')[-1]\n",
    "        c = [int(_) for _ in tileRef.split('-')]\n",
    "\n",
    "        # Now, add the data to the matrix\n",
    "        retMat[c[1] - 1, c[0] - 1] = int(tile.find_element(By.CLASS_NAME, 'tile-inner').text)\n",
    "\n",
    "    return retMat"
   ]
  },
  {
   "cell_type": "code",
   "execution_count": 17,
   "metadata": {},
   "outputs": [],
   "source": [
    "def getFinalScore():\n",
    "    # Get the final score for this iteration\n",
    "    finalScore = driver.find_element(By.CLASS_NAME, 'score-container').text\n",
    "\n",
    "    # Map the final score so that it is an integer, and return the sum\n",
    "    finalScore = finalScore.split('+')\n",
    "\n",
    "    return sum([int(_) for _ in finalScore])"
   ]
  },
  {
   "cell_type": "code",
   "execution_count": 18,
   "metadata": {},
   "outputs": [],
   "source": [
    "# A function to run some simulations of the Expectimax / Minimax algorithm\n",
    "def simulateEM(dfLink, depths, epsilons, metric):\n",
    "\n",
    "    # Loop through each combination\n",
    "    for depth in depths:\n",
    "        for epsilon in epsilons:\n",
    "\n",
    "            print(f'Simulating depth of {depth} for exploration factor {epsilon} using {metric} tree search.')\n",
    "\n",
    "            # Click the restart button after each run\n",
    "            restartButton = driver.find_element(By.CLASS_NAME, 'restart-button')\n",
    "            driver.execute_script(\"arguments[0].click();\", restartButton)\n",
    "            time.sleep(1)\n",
    "            \n",
    "            # Play the game using the specified simulation parameters\n",
    "            while True:\n",
    "\n",
    "                # Wait long enough for the board to be updated\n",
    "                time.sleep(0.5)\n",
    "\n",
    "                # Store the game state in the class instance\n",
    "                node = Node(gameToMatrix(driver))\n",
    "                node.expand(depth, epsilon, metric)\n",
    "\n",
    "                # Store the next possible scores\n",
    "                d = node.nextScores\n",
    "\n",
    "                # Terminate if empty\n",
    "                if len(d) == 0: break\n",
    "\n",
    "                # Maximise to decide the next move\n",
    "                nextMove = max(d, key=d.get)\n",
    "\n",
    "                # Play the move\n",
    "                driver.find_element(By.CLASS_NAME, 'container').send_keys(dirKey[nextMove])\n",
    "\n",
    "            # Store the statistics\n",
    "            newEntry = {\n",
    "                'depth' : depth,\n",
    "                'epsilon' : epsilon,\n",
    "                'metric' : metric,\n",
    "                'score' : getFinalScore(),\n",
    "                'largestTile' : np.max(gameToMatrix(driver))\n",
    "            }\n",
    "\n",
    "            # Store the data so that it is not lost on crash\n",
    "            df = pd.DataFrame(pd.Series(newEntry)).T\n",
    "            df.to_csv(dfLink, mode='a', index=False, header=False)\n",
    "\n",
    "    # Quit once finished\n",
    "    driver.quit()"
   ]
  },
  {
   "cell_type": "code",
   "execution_count": 19,
   "metadata": {},
   "outputs": [],
   "source": [
    "# A function to run some simulations of the Expectimax / Minimax algorithm\n",
    "def simulateMCTS(dfLink, simulationList, depthList):\n",
    "\n",
    "    # Loop through each combination\n",
    "    for simulations in simulationList:\n",
    "        for depth in depthList:\n",
    "\n",
    "            print(f'Simulating depth of {depth} for {simulations} simulations.')\n",
    "\n",
    "            # Click the restart button after each run\n",
    "            restartButton = driver.find_element(By.CLASS_NAME, 'restart-button')\n",
    "            driver.execute_script(\"arguments[0].click();\", restartButton)\n",
    "            time.sleep(1)\n",
    "            \n",
    "            # Play the game using the specified simulation parameters\n",
    "            while True:\n",
    "\n",
    "                # Wait long enough for the board to be updated\n",
    "                time.sleep(0.5)\n",
    "\n",
    "                # Store the current state as a grid\n",
    "                startNode = State(gameToMatrix(driver))\n",
    "\n",
    "                # Check if we are losing\n",
    "                if startNode.losing: break\n",
    "\n",
    "                # Calculate the start node\n",
    "                nextMove = Search(startNode, simulations, depth)\n",
    "\n",
    "                # Play according to the argmax\n",
    "                driver.find_element(By.CLASS_NAME, 'container').send_keys(dirKey[nextMove])\n",
    "\n",
    "            # Store the statistics\n",
    "            newEntry = {\n",
    "                'simulations' : simulations,\n",
    "                'depth' : depth,\n",
    "                'score' : getFinalScore(),\n",
    "                'largestTile' : np.max(gameToMatrix(driver))\n",
    "            }\n",
    "\n",
    "            # Store the data so that it is not lost on crash\n",
    "            df = pd.DataFrame(pd.Series(newEntry)).T\n",
    "            df.to_csv(dfLink, mode='a', index=False, header=False)\n",
    "\n",
    "    # Quit once finished\n",
    "    driver.quit()"
   ]
  },
  {
   "cell_type": "code",
   "execution_count": 20,
   "metadata": {},
   "outputs": [
    {
     "name": "stdout",
     "output_type": "stream",
     "text": [
      "Simulating depth of 1 for 10 simulations.\n",
      "Simulating depth of 10 for 10 simulations.\n",
      "Simulating depth of 50 for 10 simulations.\n",
      "Simulating depth of 1 for 100 simulations.\n",
      "Simulating depth of 10 for 100 simulations.\n",
      "Simulating depth of 50 for 100 simulations.\n",
      "Simulating depth of 1 for 200 simulations.\n",
      "Simulating depth of 10 for 200 simulations.\n"
     ]
    },
    {
     "ename": "KeyboardInterrupt",
     "evalue": "",
     "output_type": "error",
     "traceback": [
      "\u001b[0;31m---------------------------------------------------------------------------\u001b[0m",
      "\u001b[0;31mKeyboardInterrupt\u001b[0m                         Traceback (most recent call last)",
      "Cell \u001b[0;32mIn[20], line 5\u001b[0m\n\u001b[1;32m      1\u001b[0m \u001b[38;5;66;03m# Use this for Expectimax / Minimax\u001b[39;00m\n\u001b[1;32m      2\u001b[0m \u001b[38;5;66;03m# simulateEM('minimaxResults.csv', [0,1,2], [0.1, 0.2, 0.3], 'expectimax')\u001b[39;00m\n\u001b[1;32m      3\u001b[0m \n\u001b[1;32m      4\u001b[0m \u001b[38;5;66;03m# Use this for Monte-Carlo Tree Search\u001b[39;00m\n\u001b[0;32m----> 5\u001b[0m \u001b[43msimulateMCTS\u001b[49m\u001b[43m(\u001b[49m\u001b[38;5;124;43m'\u001b[39;49m\u001b[38;5;124;43mmctsResults.csv\u001b[39;49m\u001b[38;5;124;43m'\u001b[39;49m\u001b[43m,\u001b[49m\u001b[43m \u001b[49m\u001b[43m[\u001b[49m\u001b[38;5;241;43m10\u001b[39;49m\u001b[43m,\u001b[49m\u001b[43m \u001b[49m\u001b[38;5;241;43m100\u001b[39;49m\u001b[43m,\u001b[49m\u001b[43m \u001b[49m\u001b[38;5;241;43m200\u001b[39;49m\u001b[43m]\u001b[49m\u001b[43m,\u001b[49m\u001b[43m \u001b[49m\u001b[43m[\u001b[49m\u001b[38;5;241;43m1\u001b[39;49m\u001b[43m,\u001b[49m\u001b[43m \u001b[49m\u001b[38;5;241;43m10\u001b[39;49m\u001b[43m,\u001b[49m\u001b[43m \u001b[49m\u001b[38;5;241;43m50\u001b[39;49m\u001b[43m]\u001b[49m\u001b[43m)\u001b[49m\n",
      "Cell \u001b[0;32mIn[19], line 19\u001b[0m, in \u001b[0;36msimulateMCTS\u001b[0;34m(dfLink, simulationList, depthList)\u001b[0m\n\u001b[1;32m     15\u001b[0m \u001b[38;5;66;03m# Play the game using the specified simulation parameters\u001b[39;00m\n\u001b[1;32m     16\u001b[0m \u001b[38;5;28;01mwhile\u001b[39;00m \u001b[38;5;28;01mTrue\u001b[39;00m:\n\u001b[1;32m     17\u001b[0m \n\u001b[1;32m     18\u001b[0m     \u001b[38;5;66;03m# Wait long enough for the board to be updated\u001b[39;00m\n\u001b[0;32m---> 19\u001b[0m     \u001b[43mtime\u001b[49m\u001b[38;5;241;43m.\u001b[39;49m\u001b[43msleep\u001b[49m\u001b[43m(\u001b[49m\u001b[38;5;241;43m0.5\u001b[39;49m\u001b[43m)\u001b[49m\n\u001b[1;32m     21\u001b[0m     \u001b[38;5;66;03m# Store the current state as a grid\u001b[39;00m\n\u001b[1;32m     22\u001b[0m     startNode \u001b[38;5;241m=\u001b[39m State(gameToMatrix(driver))\n",
      "\u001b[0;31mKeyboardInterrupt\u001b[0m: "
     ]
    }
   ],
   "source": [
    "# Use this for Expectimax / Minimax\n",
    "# simulateEM('minimaxResults.csv', [0,1,2], [0.1, 0.2, 0.3], 'expectimax')\n",
    "\n",
    "# Use this for Monte-Carlo Tree Search\n",
    "simulateMCTS('mctsResults.csv', [10, 100, 200], [1, 10, 50])"
   ]
  },
  {
   "cell_type": "code",
   "execution_count": null,
   "metadata": {},
   "outputs": [],
   "source": [
    "# Use this to quit the driver if necessary\n",
    "# driver.quit()"
   ]
  },
  {
   "cell_type": "code",
   "execution_count": null,
   "metadata": {},
   "outputs": [
    {
     "data": {
      "image/png": "[encoded data removed]",
      "text/plain": [
       "<Figure size 900x300 with 3 Axes>"
      ]
     },
     "metadata": {},
     "output_type": "display_data"
    }
   ],
   "source": [
    "dfEM = pd.read_csv('minimaxResults.csv')\n",
    "grid = sns.FacetGrid(dfEM, col='depth', hue='metric')\n",
    "grid.map(plt.plot, 'epsilon', 'largestTile', marker='o')\n",
    "plt.legend();"
   ]
  },
  {
   "cell_type": "code",
   "execution_count": null,
   "metadata": {},
   "outputs": [
    {
     "data": {
      "image/png": "[encoded data removed]",
      "text/plain": [
       "<Figure size 900x300 with 3 Axes>"
      ]
     },
     "metadata": {},
     "output_type": "display_data"
    }
   ],
   "source": [
    "dfMCTS = pd.read_csv('mctsResults.csv')\n",
    "grid = sns.FacetGrid(dfMCTS, col='depth')\n",
    "grid.map(plt.plot, 'simulations', 'largestTile', marker='o');"
   ]
  },
  {
   "cell_type": "code",
   "execution_count": null,
   "metadata": {},
   "outputs": [],
   "source": []
  }
 ],
 "metadata": {
  "kernelspec": {
   "display_name": ".venv",
   "language": "python",
   "name": "python3"
  },
  "language_info": {
   "codemirror_mode": {
    "name": "ipython",
    "version": 3
   },
   "file_extension": ".py",
   "mimetype": "text/x-python",
   "name": "python",
   "nbconvert_exporter": "python",
   "pygments_lexer": "ipython3",
   "version": "3.10.9"
  },
  "orig_nbformat": 4
 },
 "nbformat": 4,
 "nbformat_minor": 2
}
